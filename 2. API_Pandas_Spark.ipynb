{
  "cells": [
    {
      "cell_type": "code",
      "execution_count": null,
      "metadata": {
        "application/vnd.databricks.v1+cell": {
          "cellMetadata": {
            "byteLimit": 2048000,
            "rowLimit": 10000
          },
          "inputWidgets": {},
          "nuid": "e01d35aa-ef38-4e33-8ae9-820cf6c6e1a8",
          "showTitle": false,
          "title": ""
        },
        "id": "2GkrCk6wzov_"
      },
      "outputs": [],
      "source": [
        "local_do_arquivo = '/FileStore/cursos_prouni.csv'"
      ]
    },
    {
      "cell_type": "code",
      "execution_count": null,
      "metadata": {
        "application/vnd.databricks.v1+cell": {
          "cellMetadata": {
            "byteLimit": 2048000,
            "rowLimit": 10000
          },
          "inputWidgets": {},
          "nuid": "72f3e35f-8ba6-489f-949c-cc57a4ad4d1d",
          "showTitle": false,
          "title": ""
        },
        "id": "vwbeVX8OzowB"
      },
      "outputs": [],
      "source": [
        "import pyspark.pandas as ps\n",
        "\n",
        "df = ps.read_csv(local_do_arquivo, index_col='curso_id')"
      ]
    },
    {
      "cell_type": "code",
      "execution_count": null,
      "metadata": {
        "application/vnd.databricks.v1+cell": {
          "cellMetadata": {
            "byteLimit": 2048000,
            "rowLimit": 10000
          },
          "inputWidgets": {},
          "nuid": "410fe6dc-d2a7-41e7-8473-1edca3769363",
          "showTitle": false,
          "title": ""
        },
        "id": "5uiVGixezowB",
        "outputId": "f7cd59a4-97ed-432a-a17d-24d5e373783d"
      },
      "outputs": [],
      "source": [
        "df.head()"
      ]
    },
    {
      "cell_type": "code",
      "execution_count": null,
      "metadata": {
        "application/vnd.databricks.v1+cell": {
          "cellMetadata": {
            "byteLimit": 2048000,
            "rowLimit": 10000
          },
          "inputWidgets": {},
          "nuid": "ec9dfe31-0ca5-4c0f-be75-2d05d6d89270",
          "showTitle": false,
          "title": ""
        },
        "id": "trGivCQuzowC",
        "outputId": "aba8bf85-f67d-480a-d721-cc482e2adc3e"
      },
      "outputs": [],
      "source": [
        "df.shape"
      ]
    },
    {
      "cell_type": "code",
      "execution_count": null,
      "metadata": {
        "application/vnd.databricks.v1+cell": {
          "cellMetadata": {
            "byteLimit": 2048000,
            "rowLimit": 10000
          },
          "inputWidgets": {},
          "nuid": "55de3622-0d0b-44b3-914f-db53d6296cff",
          "showTitle": false,
          "title": ""
        },
        "id": "74sR86pxzowC",
        "outputId": "6a09a91a-7f79-44a5-f4e1-7d9de742df17"
      },
      "outputs": [],
      "source": [
        "df['curso_busca'].equals(df['nome']).sum()"
      ]
    },
    {
      "cell_type": "code",
      "execution_count": null,
      "metadata": {
        "application/vnd.databricks.v1+cell": {
          "cellMetadata": {
            "byteLimit": 2048000,
            "rowLimit": 10000
          },
          "inputWidgets": {},
          "nuid": "f4e87af1-92c2-43b5-a98d-3572d8832e15",
          "showTitle": false,
          "title": ""
        },
        "id": "BrNnBiv0zowD"
      },
      "outputs": [],
      "source": [
        "df = df.drop(['curso_busca'],axis=1)"
      ]
    },
    {
      "cell_type": "code",
      "execution_count": null,
      "metadata": {
        "application/vnd.databricks.v1+cell": {
          "cellMetadata": {
            "byteLimit": 2048000,
            "rowLimit": 10000
          },
          "inputWidgets": {},
          "nuid": "4a2d2e6a-68a4-4b53-bf0b-9b6209e7285d",
          "showTitle": false,
          "title": ""
        },
        "id": "IWq7MkzszowD",
        "outputId": "44d74c01-fe5c-4f1a-ccf8-19fdf2fbc006"
      },
      "outputs": [],
      "source": [
        "df.head()"
      ]
    },
    {
      "cell_type": "code",
      "execution_count": null,
      "metadata": {
        "application/vnd.databricks.v1+cell": {
          "cellMetadata": {
            "byteLimit": 2048000,
            "rowLimit": 10000
          },
          "inputWidgets": {},
          "nuid": "54f6b863-be95-43be-9179-5600b704daab",
          "showTitle": false,
          "title": ""
        },
        "id": "PoJMq5xwzowD"
      },
      "outputs": [],
      "source": [
        "df = df.rename(columns={'nome':'nome_curso'})"
      ]
    },
    {
      "cell_type": "code",
      "execution_count": null,
      "metadata": {
        "application/vnd.databricks.v1+cell": {
          "cellMetadata": {
            "byteLimit": 2048000,
            "rowLimit": 10000
          },
          "inputWidgets": {},
          "nuid": "c2a83851-a979-44d6-8bd3-42ca2d2f0126",
          "showTitle": false,
          "title": ""
        },
        "id": "RIah_q49zowE",
        "outputId": "3608a845-c5ec-4d94-c349-ebbef4aaa1a3"
      },
      "outputs": [],
      "source": [
        "df.head()"
      ]
    },
    {
      "cell_type": "code",
      "execution_count": null,
      "metadata": {
        "application/vnd.databricks.v1+cell": {
          "cellMetadata": {
            "byteLimit": 2048000,
            "rowLimit": 10000
          },
          "inputWidgets": {},
          "nuid": "c2a12e8e-bd78-4d85-93eb-6f88d5263a77",
          "showTitle": false,
          "title": ""
        },
        "id": "ObNL3WPuzowE",
        "outputId": "a55ca0d3-9802-443d-a0e3-0a0b6038a573"
      },
      "outputs": [],
      "source": [
        "df[df['nome_curso']=='Medicina']['nome_curso'].count()"
      ]
    },
    {
      "cell_type": "code",
      "execution_count": null,
      "metadata": {
        "application/vnd.databricks.v1+cell": {
          "cellMetadata": {
            "byteLimit": 2048000,
            "rowLimit": 10000
          },
          "inputWidgets": {},
          "nuid": "dddb8421-c927-460e-92e3-4f6d521ca802",
          "showTitle": false,
          "title": ""
        },
        "id": "fMn3evQ-zowE",
        "outputId": "c386f292-d502-46e6-c1bd-9253f661a6eb"
      },
      "outputs": [],
      "source": [
        "df['turno'].unique()"
      ]
    },
    {
      "cell_type": "code",
      "execution_count": null,
      "metadata": {
        "application/vnd.databricks.v1+cell": {
          "cellMetadata": {
            "byteLimit": 2048000,
            "rowLimit": 10000
          },
          "inputWidgets": {},
          "nuid": "278bc794-6e02-4300-aded-52601591b79d",
          "showTitle": false,
          "title": ""
        },
        "id": "kesCCyRjzowE",
        "outputId": "7c3cfaeb-9dc7-4c77-e586-6ff24dc6d32f"
      },
      "outputs": [],
      "source": [
        "df[(df['turno']=='Integral') & (df['nome_curso']=='Medicina')]['nome_curso'].count()"
      ]
    },
    {
      "cell_type": "code",
      "execution_count": null,
      "metadata": {
        "application/vnd.databricks.v1+cell": {
          "cellMetadata": {
            "byteLimit": 2048000,
            "rowLimit": 10000
          },
          "inputWidgets": {},
          "nuid": "0a6fc821-3c85-4c95-8580-9873a14776ba",
          "showTitle": false,
          "title": ""
        },
        "id": "NL9GtfqnzowF",
        "outputId": "671144f6-cb17-472e-f6d6-5ef6fa4c892e"
      },
      "outputs": [],
      "source": [
        "df[(df['turno']=='Integral') & (df['nome_curso']=='Medicina') | (df['turno']=='Matutino') & (df['nome_curso']=='Medicina') ]['nome_curso'].count()"
      ]
    },
    {
      "cell_type": "code",
      "execution_count": null,
      "metadata": {
        "application/vnd.databricks.v1+cell": {
          "cellMetadata": {
            "byteLimit": 2048000,
            "rowLimit": 10000
          },
          "inputWidgets": {},
          "nuid": "83a75ab8-e13a-43a8-9ab5-e526badadcd0",
          "showTitle": false,
          "title": ""
        },
        "id": "AQ_LG8E7zowF"
      },
      "outputs": [],
      "source": [
        "local_do_arquivo = '/FileStore/tables/reajuste.csv'\n",
        "df_mensalidade = ps.read_csv(local_do_arquivo)"
      ]
    },
    {
      "cell_type": "code",
      "execution_count": null,
      "metadata": {
        "application/vnd.databricks.v1+cell": {
          "cellMetadata": {
            "byteLimit": 2048000,
            "rowLimit": 10000
          },
          "inputWidgets": {},
          "nuid": "6d712bf4-c188-43cd-8761-eb690dc2712c",
          "showTitle": false,
          "title": ""
        },
        "id": "9vV3JjD5zowF",
        "outputId": "75de3d5d-806b-4950-d28c-47b63c3c9b54"
      },
      "outputs": [],
      "source": [
        "df_mensalidade.head()"
      ]
    },
    {
      "cell_type": "code",
      "execution_count": null,
      "metadata": {
        "application/vnd.databricks.v1+cell": {
          "cellMetadata": {
            "byteLimit": 2048000,
            "rowLimit": 10000
          },
          "inputWidgets": {},
          "nuid": "e3dcd427-d8be-4d27-9b7e-d1d6be1de7fb",
          "showTitle": false,
          "title": ""
        },
        "id": "dqMXpSwFzowF",
        "outputId": "102a6b46-9b9b-491c-9c66-ccd6bda8ade7"
      },
      "outputs": [],
      "source": [
        "df_mensalidade.shape"
      ]
    },
    {
      "cell_type": "code",
      "execution_count": null,
      "metadata": {
        "application/vnd.databricks.v1+cell": {
          "cellMetadata": {
            "byteLimit": 2048000,
            "rowLimit": 10000
          },
          "inputWidgets": {},
          "nuid": "b7538b53-e92d-4f5b-85a5-c9fd263da672",
          "showTitle": false,
          "title": ""
        },
        "id": "07BGZx0LzowF"
      },
      "outputs": [],
      "source": [
        "ps.set_option('compute.ops_on_diff_frames',True)"
      ]
    },
    {
      "cell_type": "code",
      "execution_count": null,
      "metadata": {
        "application/vnd.databricks.v1+cell": {
          "cellMetadata": {
            "byteLimit": 2048000,
            "rowLimit": 10000
          },
          "inputWidgets": {},
          "nuid": "6fe1f09c-f371-4261-93cb-1c3eeb19bd95",
          "showTitle": false,
          "title": ""
        },
        "id": "NH4MF4L3zowF"
      },
      "outputs": [],
      "source": [
        "df.reset_index(inplace=True)"
      ]
    },
    {
      "cell_type": "code",
      "execution_count": null,
      "metadata": {
        "application/vnd.databricks.v1+cell": {
          "cellMetadata": {
            "byteLimit": 2048000,
            "rowLimit": 10000
          },
          "inputWidgets": {},
          "nuid": "db0a4873-bf9b-47c7-814c-50951478ec89",
          "showTitle": false,
          "title": ""
        },
        "id": "A9SC_qMmzowF"
      },
      "outputs": [],
      "source": [
        "df['mensalidade'] = df['mensalidade']+df_mensalidade['reajuste']"
      ]
    },
    {
      "cell_type": "code",
      "execution_count": null,
      "metadata": {
        "application/vnd.databricks.v1+cell": {
          "cellMetadata": {
            "byteLimit": 2048000,
            "rowLimit": 10000
          },
          "inputWidgets": {},
          "nuid": "a73646f5-d4be-423c-b7b2-020202d1fca2",
          "showTitle": false,
          "title": ""
        },
        "id": "DKnSdf6LzowG",
        "outputId": "86e6b754-bf48-4a8d-cb9c-d09315d9487b"
      },
      "outputs": [],
      "source": [
        "df.dropna(inplace=True)\n",
        "df.head()"
      ]
    },
    {
      "cell_type": "code",
      "execution_count": null,
      "metadata": {
        "application/vnd.databricks.v1+cell": {
          "cellMetadata": {
            "byteLimit": 2048000,
            "rowLimit": 10000
          },
          "inputWidgets": {},
          "nuid": "bae03e80-66ab-40fb-aa91-7c57f03b2bfe",
          "showTitle": false,
          "title": ""
        },
        "id": "BRRoetS_zowG",
        "outputId": "cddb8cf2-5a01-49ee-998a-08e70f34b405"
      },
      "outputs": [],
      "source": [
        "df.describe()"
      ]
    },
    {
      "cell_type": "code",
      "execution_count": null,
      "metadata": {
        "application/vnd.databricks.v1+cell": {
          "cellMetadata": {
            "byteLimit": 2048000,
            "rowLimit": 10000
          },
          "inputWidgets": {},
          "nuid": "95229a93-465b-4c55-84c8-b3e877203711",
          "showTitle": false,
          "title": ""
        },
        "id": "Cwo1yREMzowG",
        "outputId": "5c56773b-916c-47f9-b012-2584c7f32b1e"
      },
      "outputs": [],
      "source": [
        "df_descricao = df[df['nome_curso'] == 'Medicina'].describe()\n",
        "df_descricao"
      ]
    },
    {
      "cell_type": "code",
      "execution_count": null,
      "metadata": {
        "application/vnd.databricks.v1+cell": {
          "cellMetadata": {
            "byteLimit": 2048000,
            "rowLimit": 10000
          },
          "inputWidgets": {},
          "nuid": "b8c02327-16bf-41fc-841a-a5289659c4f6",
          "showTitle": false,
          "title": ""
        },
        "id": "GcUT-ksDzowG"
      },
      "outputs": [],
      "source": [
        "df_descricao_bolsa = df_descricao.drop(['mensalidade','curso_id','campus_id',\"nota_integral_ampla\", \"nota_integral_cotas\", \"nota_parcial_ampla\", \"nota_parcial_cotas\"],axis=1)\n",
        "df_descricao_bolsa = df_descricao_bolsa.drop(['count'],axis=0)"
      ]
    },
    {
      "cell_type": "code",
      "execution_count": null,
      "metadata": {
        "application/vnd.databricks.v1+cell": {
          "cellMetadata": {
            "byteLimit": 2048000,
            "rowLimit": 10000
          },
          "inputWidgets": {},
          "nuid": "ef155c8c-bfa7-4d49-88cb-055503ff8eaf",
          "showTitle": false,
          "title": ""
        },
        "id": "9ttecndizowG",
        "outputId": "d10f593a-b534-4d0b-e1f8-0345ef90d928"
      },
      "outputs": [],
      "source": [
        "df_descricao_bolsa.style.format('{:,.2f}').background_gradient(axis=1)"
      ]
    },
    {
      "cell_type": "code",
      "execution_count": null,
      "metadata": {
        "application/vnd.databricks.v1+cell": {
          "cellMetadata": {
            "byteLimit": 2048000,
            "rowLimit": 10000
          },
          "inputWidgets": {},
          "nuid": "004a1285-2fb9-4112-adaf-a8adbeefa710",
          "showTitle": false,
          "title": ""
        },
        "id": "Y1Mw7KglzowH",
        "outputId": "5a81887c-29fc-4b31-8114-db20165b44dd"
      },
      "outputs": [],
      "source": [
        "df_medicina = df.query(\"nome_curso == 'Medicina'\")\n",
        "df_medicina.head()"
      ]
    },
    {
      "cell_type": "code",
      "execution_count": null,
      "metadata": {
        "application/vnd.databricks.v1+cell": {
          "cellMetadata": {
            "byteLimit": 2048000,
            "rowLimit": 10000
          },
          "inputWidgets": {},
          "nuid": "0d7b4d48-79e0-4a72-aca5-5202f320b52e",
          "showTitle": false,
          "title": ""
        },
        "id": "YuF9nBZBzowH",
        "outputId": "4003a6e6-52ab-466a-ae10-5e3771b71bcb"
      },
      "outputs": [],
      "source": [
        "df_medicina['mensalidade'].mean()"
      ]
    },
    {
      "cell_type": "code",
      "execution_count": null,
      "metadata": {
        "application/vnd.databricks.v1+cell": {
          "cellMetadata": {
            "byteLimit": 2048000,
            "rowLimit": 10000
          },
          "inputWidgets": {},
          "nuid": "df0d0b01-5bbd-4e96-b8fe-0f27d63fa6f0",
          "showTitle": false,
          "title": ""
        },
        "id": "fwLvNotfzowH",
        "outputId": "25a3d508-1212-45e0-e8f0-88179d7fcee0"
      },
      "outputs": [],
      "source": [
        "df_medicina.query(\"turno == 'Integral' AND cidade_busca=='Sao Paulo'\")"
      ]
    },
    {
      "cell_type": "code",
      "execution_count": null,
      "metadata": {
        "application/vnd.databricks.v1+cell": {
          "cellMetadata": {
            "byteLimit": 2048000,
            "rowLimit": 10000
          },
          "inputWidgets": {},
          "nuid": "bf3b8a79-65a7-4cf9-89d6-b6ed1c55e53c",
          "showTitle": false,
          "title": ""
        },
        "id": "sQFUq8K-zowH"
      },
      "outputs": [],
      "source": [
        "agrupado = df_medicina.query(\"turno == 'Integral' OR turno == 'Matutino'\").groupby('uf_busca')['mensalidade'].mean()"
      ]
    },
    {
      "cell_type": "code",
      "execution_count": null,
      "metadata": {
        "application/vnd.databricks.v1+cell": {
          "cellMetadata": {
            "byteLimit": 2048000,
            "rowLimit": 10000
          },
          "inputWidgets": {},
          "nuid": "1f8b3faa-d5cb-4b26-92bf-e0447eae0b28",
          "showTitle": false,
          "title": ""
        },
        "id": "98LRSl9ozowI"
      },
      "outputs": [],
      "source": [
        "df_agrupado = ps.DataFrame(agrupado)"
      ]
    },
    {
      "cell_type": "code",
      "execution_count": null,
      "metadata": {
        "application/vnd.databricks.v1+cell": {
          "cellMetadata": {
            "byteLimit": 2048000,
            "rowLimit": 10000
          },
          "inputWidgets": {},
          "nuid": "de96fef4-aa40-48b5-b6f9-43ec097a5f23",
          "showTitle": false,
          "title": ""
        },
        "id": "NQdNDqCqzowI",
        "outputId": "0bbd9bc9-69dd-4fb3-b806-a0d3dc39fa3e"
      },
      "outputs": [],
      "source": [
        "df_agrupado"
      ]
    },
    {
      "cell_type": "code",
      "execution_count": null,
      "metadata": {
        "application/vnd.databricks.v1+cell": {
          "cellMetadata": {
            "byteLimit": 2048000,
            "rowLimit": 10000
          },
          "inputWidgets": {},
          "nuid": "667afbd0-ec44-4393-8a71-35ffdf03f9ab",
          "showTitle": false,
          "title": ""
        },
        "id": "e78B63bIzowI"
      },
      "outputs": [],
      "source": [
        "df_agrupado.sort_values(by='mensalidade',inplace=True,ascending=False)"
      ]
    },
    {
      "cell_type": "code",
      "execution_count": null,
      "metadata": {
        "application/vnd.databricks.v1+cell": {
          "cellMetadata": {
            "byteLimit": 2048000,
            "rowLimit": 10000
          },
          "inputWidgets": {},
          "nuid": "55f910ce-ae29-4cf7-96f4-4bcfb7986441",
          "showTitle": false,
          "title": ""
        },
        "id": "TT2HTCJMzowI",
        "outputId": "633920a5-29ac-4572-8065-9709e1688918"
      },
      "outputs": [],
      "source": [
        "df_agrupado"
      ]
    },
    {
      "cell_type": "code",
      "execution_count": null,
      "metadata": {
        "application/vnd.databricks.v1+cell": {
          "cellMetadata": {
            "byteLimit": 2048000,
            "rowLimit": 10000
          },
          "inputWidgets": {},
          "nuid": "8c133c6a-8fad-4f88-873a-03758de60815",
          "showTitle": false,
          "title": ""
        },
        "id": "TXddg5lJzowI"
      },
      "outputs": [],
      "source": [
        "df_agrupado = df_agrupado.reset_index()"
      ]
    },
    {
      "cell_type": "code",
      "execution_count": null,
      "metadata": {
        "application/vnd.databricks.v1+cell": {
          "cellMetadata": {
            "byteLimit": 2048000,
            "rowLimit": 10000
          },
          "inputWidgets": {},
          "nuid": "a61b2320-ee9a-4a91-adff-bf4fc03075ad",
          "showTitle": false,
          "title": ""
        },
        "id": "A-DgxeBNzowJ",
        "outputId": "97a513f0-ee24-4b92-fbe5-88fb9bbaaaf3"
      },
      "outputs": [],
      "source": [
        "df_agrupado.plot.bar(x='uf_busca',y='mensalidade')"
      ]
    },
    {
      "cell_type": "code",
      "execution_count": null,
      "metadata": {
        "application/vnd.databricks.v1+cell": {
          "cellMetadata": {
            "byteLimit": 2048000,
            "rowLimit": 10000
          },
          "inputWidgets": {},
          "nuid": "59c46b66-75e5-4ef0-9805-a3279fe79d2c",
          "showTitle": false,
          "title": ""
        },
        "id": "JCv4LUFgzowJ",
        "outputId": "dffb2b3d-af5a-4933-afb9-f68af30a9991"
      },
      "outputs": [],
      "source": [
        "ps.sql('''\n",
        "SELECT bolsa_integral_cotas, uf_busca\n",
        "FROM {DF}\n",
        "WHERE nome_curso='Medicina'\n",
        "LIMIT 5;\n",
        "''', DF=df)"
      ]
    },
    {
      "cell_type": "code",
      "execution_count": null,
      "metadata": {
        "application/vnd.databricks.v1+cell": {
          "cellMetadata": {
            "byteLimit": 2048000,
            "rowLimit": 10000
          },
          "inputWidgets": {},
          "nuid": "3dda1d1f-c61e-4fd7-bb50-3278a08d2a59",
          "showTitle": false,
          "title": ""
        },
        "id": "PUxa4d1LzowJ"
      },
      "outputs": [],
      "source": [
        "cotas_ordenadas = ps.sql('''\n",
        "SELECT uf_busca, SUM(bolsa_integral_cotas) AS Total_de_cotas\n",
        "FROM {DF}\n",
        "WHERE nome_curso='Medicina'\n",
        "GROUP BY uf_busca\n",
        "ORDER BY Total_de_cotas DESC\n",
        "''', DF=df)"
      ]
    },
    {
      "cell_type": "code",
      "execution_count": null,
      "metadata": {
        "application/vnd.databricks.v1+cell": {
          "cellMetadata": {
            "byteLimit": 2048000,
            "rowLimit": 10000
          },
          "inputWidgets": {},
          "nuid": "b5c15541-9263-4b6e-a410-338a8ea805e5",
          "showTitle": false,
          "title": ""
        },
        "id": "IPw4NbXOzowJ",
        "outputId": "d1922a80-0b79-4b59-cf63-1972e5683a60"
      },
      "outputs": [],
      "source": [
        "cotas_ordenadas.head()"
      ]
    },
    {
      "cell_type": "code",
      "execution_count": null,
      "metadata": {
        "application/vnd.databricks.v1+cell": {
          "cellMetadata": {
            "byteLimit": 2048000,
            "rowLimit": 10000
          },
          "inputWidgets": {},
          "nuid": "2a01e3c8-b647-4f56-af20-9c0107fb1d7e",
          "showTitle": false,
          "title": ""
        },
        "id": "TDa3SSEBzowJ",
        "outputId": "750b50b2-1d12-4cf8-bdea-08b52e22bf04"
      },
      "outputs": [],
      "source": [
        "cotas_ordenadas.plot.bar(x='uf_busca',y='Total_de_cotas')"
      ]
    },
    {
      "cell_type": "code",
      "execution_count": null,
      "metadata": {
        "application/vnd.databricks.v1+cell": {
          "cellMetadata": {
            "byteLimit": 2048000,
            "rowLimit": 10000
          },
          "inputWidgets": {},
          "nuid": "bf8edabd-fee3-4e5f-a702-49df28cac376",
          "showTitle": false,
          "title": ""
        },
        "id": "ICZWDpXJzowK",
        "outputId": "fff16da7-13a3-4115-9c4b-ccff2ef7f6c0"
      },
      "outputs": [],
      "source": [
        "df_medicina['cidade_busca'].unique()"
      ]
    },
    {
      "cell_type": "code",
      "execution_count": null,
      "metadata": {
        "application/vnd.databricks.v1+cell": {
          "cellMetadata": {
            "byteLimit": 2048000,
            "rowLimit": 10000
          },
          "inputWidgets": {},
          "nuid": "80774ee5-517f-4c45-bcb4-2245a08cdf31",
          "showTitle": false,
          "title": ""
        },
        "id": "z1F9YlBCzowK"
      },
      "outputs": [],
      "source": [
        "nomes_cidades = {\n",
        "\"Sao Luis\": \"Capital\",\n",
        "\"Joao Pessoa\": \"Município\",\n",
        "\"Belem\": \"Capital\",\n",
        "\"Itaperuna\": \"Município\",\n",
        "\"Vitoria\": \"Município\",\n",
        "\"Franca\": \"Município\",\n",
        "\"Sao Paulo\": \"Capital\",\n",
        "\"Guarapuava\": \"Município\",\n",
        "\"Campo Mourao\": \"Município\",\n",
        "\"Montes Claros\": \"Município\",\n",
        "\"Rio Branco\": \"Município\",\n",
        "\"Imperatriz\": \"Município\",\n",
        "\"Vespasiano\": \"Município\",\n",
        "\"Porto Velho\": \"Município\"\n",
        "}\n"
      ]
    },
    {
      "cell_type": "code",
      "execution_count": null,
      "metadata": {
        "application/vnd.databricks.v1+cell": {
          "cellMetadata": {
            "byteLimit": 2048000,
            "rowLimit": 10000
          },
          "inputWidgets": {},
          "nuid": "ba68d00e-945c-40b8-b180-a6d4a0265646",
          "showTitle": false,
          "title": ""
        },
        "id": "hFv1G9H7zowK",
        "outputId": "46ae2c5d-de6d-410c-8dea-774201a8ceb7"
      },
      "outputs": [],
      "source": [
        "capitais = df_medicina['cidade_busca'].map(nomes_cidades)\n",
        "capitais"
      ]
    },
    {
      "cell_type": "code",
      "execution_count": null,
      "metadata": {
        "application/vnd.databricks.v1+cell": {
          "cellMetadata": {
            "byteLimit": 2048000,
            "rowLimit": 10000
          },
          "inputWidgets": {},
          "nuid": "eb3a3a12-60a4-4f08-9256-6360ac2818d2",
          "showTitle": false,
          "title": ""
        },
        "id": "4MkTHJ6szowK"
      },
      "outputs": [],
      "source": [
        "df_medicina.insert(loc=8,column='tipo_cidade',value=capitais)\n"
      ]
    },
    {
      "cell_type": "code",
      "execution_count": null,
      "metadata": {
        "application/vnd.databricks.v1+cell": {
          "cellMetadata": {
            "byteLimit": 2048000,
            "rowLimit": 10000
          },
          "inputWidgets": {},
          "nuid": "a601c6a0-1042-493f-9574-0aab6f0ebd6c",
          "showTitle": false,
          "title": ""
        },
        "id": "7p4S4pY2zowK",
        "outputId": "03c2c540-6ade-4c81-c8d7-c54041793836"
      },
      "outputs": [],
      "source": [
        "df_medicina.head()"
      ]
    },
    {
      "cell_type": "code",
      "execution_count": null,
      "metadata": {
        "application/vnd.databricks.v1+cell": {
          "cellMetadata": {
            "byteLimit": 2048000,
            "rowLimit": 10000
          },
          "inputWidgets": {},
          "nuid": "7cf36b57-2a73-4cf5-9e5c-d72cd3dbe5cc",
          "showTitle": false,
          "title": ""
        },
        "id": "rprceMY4zowK",
        "outputId": "31b0c0cf-67ce-423a-8c31-682eeceaec82"
      },
      "outputs": [],
      "source": [
        "cotas_ordenadas = ps.sql('''\n",
        "SELECT tipo_cidade, SUM(bolsa_integral_cotas) AS Total_de_cotas\n",
        "FROM {DF}\n",
        "GROUP BY tipo_cidade\n",
        "ORDER BY Total_de_cotas DESC\n",
        "''', DF=df_medicina)\n",
        "cotas_ordenadas.plot.bar(x='tipo_cidade',y='Total_de_cotas')"
      ]
    }
  ],
  "metadata": {
    "application/vnd.databricks.v1+notebook": {
      "dashboards": [
        {
          "elements": [
            {
              "dashboardResultIndex": null,
              "elementNUID": "3f49535f-8a14-4bb1-809b-a025203b320b",
              "elementType": "command",
              "guid": "2c871449-3b56-42ef-95d0-12baa4a23094",
              "options": null,
              "position": {
                "height": 2,
                "width": 17,
                "x": 0,
                "y": 0,
                "z": null
              },
              "resultIndex": null
            },
            {
              "dashboardResultIndex": 0,
              "elementNUID": "410fe6dc-d2a7-41e7-8473-1edca3769363",
              "elementType": "command",
              "guid": "2f8ebdf1-b736-4056-835f-f9d51ebc7b8f",
              "options": null,
              "position": {
                "height": 6,
                "width": 12,
                "x": 0,
                "y": 15,
                "z": null
              },
              "resultIndex": null
            },
            {
              "dashboardResultIndex": 0,
              "elementNUID": "4a2d2e6a-68a4-4b53-bf0b-9b6209e7285d",
              "elementType": "command",
              "guid": "ca9a6a53-a6c8-4ace-9e8f-a0c3f8988984",
              "options": null,
              "position": {
                "height": 6,
                "width": 12,
                "x": 0,
                "y": 21,
                "z": null
              },
              "resultIndex": null
            }
          ],
          "globalVars": {},
          "guid": "0ca38f1e-a77b-4c04-9188-a5dc5b75121c",
          "layoutOption": {
            "grid": true,
            "stack": true
          },
          "nuid": "d4200aad-d28a-4eec-b9e3-7ca755dacd73",
          "origId": 3647071427204573,
          "title": "Dash_Prouni",
          "version": "DashboardViewV1",
          "width": 1024
        }
      ],
      "language": "python",
      "notebookMetadata": {
        "pythonIndentUnit": 4
      },
      "notebookName": "Curso_API_Pandas_Spark",
      "notebookOrigID": 3647071427204517,
      "widgets": {}
    },
    "colab": {
      "provenance": []
    },
    "kernelspec": {
      "display_name": "Python 3",
      "language": "python",
      "name": "python3"
    },
    "language_info": {
      "codemirror_mode": {
        "name": "ipython",
        "version": 3
      },
      "file_extension": ".py",
      "mimetype": "text/x-python",
      "name": "python",
      "nbconvert_exporter": "python",
      "pygments_lexer": "ipython3",
      "version": "3.13.1"
    }
  },
  "nbformat": 4,
  "nbformat_minor": 0
}
